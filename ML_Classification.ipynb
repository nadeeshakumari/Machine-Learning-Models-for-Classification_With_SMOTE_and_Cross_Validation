{
  "nbformat": 4,
  "nbformat_minor": 0,
  "metadata": {
    "colab": {
      "provenance": []
    },
    "kernelspec": {
      "name": "python3",
      "display_name": "Python 3"
    },
    "language_info": {
      "name": "python"
    }
  },
  "cells": [
    {
      "cell_type": "code",
      "execution_count": null,
      "metadata": {
        "id": "GOQFf2DPaW50"
      },
      "outputs": [],
      "source": [
        "!pip install pandas numpy scikit-learn imbalanced-learn xgboost lightgbm catboost matplotlib seaborn\n"
      ]
    },
    {
      "cell_type": "code",
      "source": [
        "# ==============================================\n",
        "# 1. Import Required Libraries\n",
        "# ==============================================\n",
        "import pandas as pd\n",
        "import numpy as np\n",
        "import matplotlib.pyplot as plt\n",
        "import seaborn as sns\n",
        "\n",
        "from sklearn.model_selection import train_test_split, StratifiedKFold, cross_val_score\n",
        "from sklearn.preprocessing import LabelEncoder, StandardScaler\n",
        "from sklearn.metrics import accuracy_score, confusion_matrix, classification_report\n",
        "\n",
        "from sklearn.linear_model import LogisticRegression\n",
        "from sklearn.tree import DecisionTreeClassifier\n",
        "from sklearn.ensemble import RandomForestClassifier, GradientBoostingClassifier\n",
        "from sklearn.naive_bayes import GaussianNB\n",
        "from sklearn.svm import SVC\n",
        "from sklearn.neighbors import KNeighborsClassifier\n",
        "from sklearn.neural_network import MLPClassifier\n",
        "\n",
        "from xgboost import XGBClassifier\n",
        "from lightgbm import LGBMClassifier\n",
        "from catboost import CatBoostClassifier\n",
        "\n",
        "from imblearn.over_sampling import SMOTE\n",
        "import warnings\n",
        "warnings.filterwarnings(\"ignore\")\n"
      ],
      "metadata": {
        "id": "e9s7Dwh0ajrn"
      },
      "execution_count": null,
      "outputs": []
    },
    {
      "cell_type": "code",
      "source": [
        "# ==== Modify These ====\n",
        "file_path = 'dataset.csv'      # Your dataset file\n",
        "target_column = 'target'       # Your target column name\n",
        "\n",
        "# Load dataset\n",
        "df = pd.read_csv(file_path)\n",
        "print(\"Original shape:\", df.shape)\n",
        "\n",
        "# Encode categorical variables\n",
        "for col in df.select_dtypes(include='object').columns:\n",
        "    if col != target_column:\n",
        "        df[col] = LabelEncoder().fit_transform(df[col].astype(str))\n",
        "    else:\n",
        "        df[col] = df[col].astype(str)\n",
        "\n",
        "# Encode target if needed\n",
        "if df[target_column].dtype == 'object':\n",
        "    df[target_column] = LabelEncoder().fit_transform(df[target_column])\n",
        "\n",
        "# Features and target\n",
        "X = df.drop(columns=target_column)\n",
        "y = df[target_column]\n",
        "\n",
        "# Train-test split\n",
        "X_train, X_test, y_train, y_test = train_test_split(X, y, test_size=0.2, stratify=y, random_state=42)\n",
        "\n",
        "# Scale features\n",
        "scaler = StandardScaler()\n",
        "X_train_scaled = scaler.fit_transform(X_train)\n",
        "X_test_scaled = scaler.transform(X_test)\n",
        "X_scaled = scaler.fit_transform(X)\n",
        "\n",
        "# Apply SMOTE\n",
        "smote = SMOTE(random_state=42)\n",
        "X_train_res, y_train_res = smote.fit_resample(X_train_scaled, y_train)\n",
        "X_res, y_res = smote.fit_resample(X_scaled, y)\n"
      ],
      "metadata": {
        "id": "wNzgQVLAawuT"
      },
      "execution_count": null,
      "outputs": []
    },
    {
      "cell_type": "code",
      "source": [
        "cv = StratifiedKFold(n_splits=5, shuffle=True, random_state=42)"
      ],
      "metadata": {
        "id": "Ty1wt_QYa3Vh"
      },
      "execution_count": null,
      "outputs": []
    },
    {
      "cell_type": "code",
      "source": [
        "model_lr = LogisticRegression()\n",
        "cv_lr = cross_val_score(model_lr, X_res, y_res, cv=cv, scoring='accuracy').mean()\n",
        "\n",
        "model_lr.fit(X_train_res, y_train_res)\n",
        "y_pred_lr = model_lr.predict(X_test_scaled)\n",
        "\n",
        "print(\"\\n🔸 Logistic Regression\")\n",
        "print(\"CV Accuracy:\", cv_lr)\n",
        "print(\"Test Accuracy:\", accuracy_score(y_test, y_pred_lr))\n",
        "print(\"Confusion Matrix:\\n\", confusion_matrix(y_test, y_pred_lr))\n",
        "print(\"Classification Report:\\n\", classification_report(y_test, y_pred_lr))"
      ],
      "metadata": {
        "id": "w0Qe4odCa8Tw"
      },
      "execution_count": null,
      "outputs": []
    },
    {
      "cell_type": "code",
      "source": [
        "model_dt = DecisionTreeClassifier()\n",
        "cv_dt = cross_val_score(model_dt, X_res, y_res, cv=cv, scoring='accuracy').mean()\n",
        "\n",
        "model_dt.fit(X_train_res, y_train_res)\n",
        "y_pred_dt = model_dt.predict(X_test_scaled)\n",
        "\n",
        "print(\"\\n🔸 Decision Tree\")\n",
        "print(\"CV Accuracy:\", cv_dt)\n",
        "print(\"Test Accuracy:\", accuracy_score(y_test, y_pred_dt))\n",
        "print(\"Confusion Matrix:\\n\", confusion_matrix(y_test, y_pred_dt))\n",
        "print(\"Classification Report:\\n\", classification_report(y_test, y_pred_dt))\n"
      ],
      "metadata": {
        "id": "1nV1Jh2Da9gT"
      },
      "execution_count": null,
      "outputs": []
    },
    {
      "cell_type": "code",
      "source": [
        "model_rf = RandomForestClassifier()\n",
        "cv_rf = cross_val_score(model_rf, X_res, y_res, cv=cv, scoring='accuracy').mean()\n",
        "\n",
        "model_rf.fit(X_train_res, y_train_res)\n",
        "y_pred_rf = model_rf.predict(X_test_scaled)\n",
        "\n",
        "print(\"\\n🔸 Random Forest\")\n",
        "print(\"CV Accuracy:\", cv_rf)\n",
        "print(\"Test Accuracy:\", accuracy_score(y_test, y_pred_rf))\n",
        "print(\"Confusion Matrix:\\n\", confusion_matrix(y_test, y_pred_rf))\n",
        "print(\"Classification Report:\\n\", classification_report(y_test, y_pred_rf))\n"
      ],
      "metadata": {
        "id": "jcC_NXB9bASL"
      },
      "execution_count": null,
      "outputs": []
    },
    {
      "cell_type": "code",
      "source": [
        "model_gb = GradientBoostingClassifier()\n",
        "cv_gb = cross_val_score(model_gb, X_res, y_res, cv=cv, scoring='accuracy').mean()\n",
        "\n",
        "model_gb.fit(X_train_res, y_train_res)\n",
        "y_pred_gb = model_gb.predict(X_test_scaled)\n",
        "\n",
        "print(\"\\n🔸 Gradient Boosting\")\n",
        "print(\"CV Accuracy:\", cv_gb)\n",
        "print(\"Test Accuracy:\", accuracy_score(y_test, y_pred_gb))\n",
        "print(\"Confusion Matrix:\\n\", confusion_matrix(y_test, y_pred_gb))\n",
        "print(\"Classification Report:\\n\", classification_report(y_test, y_pred_gb))"
      ],
      "metadata": {
        "id": "-6SO3FKebFp6"
      },
      "execution_count": null,
      "outputs": []
    },
    {
      "cell_type": "code",
      "source": [
        "model_svm = SVC()\n",
        "cv_svm = cross_val_score(model_svm, X_res, y_res, cv=cv, scoring='accuracy').mean()\n",
        "\n",
        "model_svm.fit(X_train_res, y_train_res)\n",
        "y_pred_svm = model_svm.predict(X_test_scaled)\n",
        "\n",
        "print(\"\\n🔸 SVM\")\n",
        "print(\"CV Accuracy:\", cv_svm)\n",
        "print(\"Test Accuracy:\", accuracy_score(y_test, y_pred_svm))\n",
        "print(\"Confusion Matrix:\\n\", confusion_matrix(y_test, y_pred_svm))\n",
        "print(\"Classification Report:\\n\", classification_report(y_test, y_pred_svm))\n"
      ],
      "metadata": {
        "id": "UcAwiTWDbIqo"
      },
      "execution_count": null,
      "outputs": []
    },
    {
      "cell_type": "code",
      "source": [
        "model_nb = GaussianNB()\n",
        "cv_nb = cross_val_score(model_nb, X_res, y_res, cv=cv, scoring='accuracy').mean()\n",
        "\n",
        "model_nb.fit(X_train_res, y_train_res)\n",
        "y_pred_nb = model_nb.predict(X_test_scaled)\n",
        "\n",
        "print(\"\\n🔸 Naive Bayes\")\n",
        "print(\"CV Accuracy:\", cv_nb)\n",
        "print(\"Test Accuracy:\", accuracy_score(y_test, y_pred_nb))\n",
        "print(\"Confusion Matrix:\\n\", confusion_matrix(y_test, y_pred_nb))\n",
        "print(\"Classification Report:\\n\", classification_report(y_test, y_pred_nb))\n"
      ],
      "metadata": {
        "id": "l5apvP6abKRo"
      },
      "execution_count": null,
      "outputs": []
    },
    {
      "cell_type": "code",
      "source": [
        "model_knn = KNeighborsClassifier()\n",
        "cv_knn = cross_val_score(model_knn, X_res, y_res, cv=cv, scoring='accuracy').mean()\n",
        "\n",
        "model_knn.fit(X_train_res, y_train_res)\n",
        "y_pred_knn = model_knn.predict(X_test_scaled)\n",
        "\n",
        "print(\"\\n🔸 KNN\")\n",
        "print(\"CV Accuracy:\", cv_knn)\n",
        "print(\"Test Accuracy:\", accuracy_score(y_test, y_pred_knn))\n",
        "print(\"Confusion Matrix:\\n\", confusion_matrix(y_test, y_pred_knn))\n",
        "print(\"Classification Report:\\n\", classification_report(y_test, y_pred_knn))\n"
      ],
      "metadata": {
        "id": "I1VrVI_8bMGC"
      },
      "execution_count": null,
      "outputs": []
    },
    {
      "cell_type": "code",
      "source": [
        "model_xgb = XGBClassifier(use_label_encoder=False, eval_metric='mlogloss')\n",
        "cv_xgb = cross_val_score(model_xgb, X_res, y_res, cv=cv, scoring='accuracy').mean()\n",
        "\n",
        "model_xgb.fit(X_train_res, y_train_res)\n",
        "y_pred_xgb = model_xgb.predict(X_test_scaled)\n",
        "\n",
        "print(\"\\n🔸 XGBoost\")\n",
        "print(\"CV Accuracy:\", cv_xgb)\n",
        "print(\"Test Accuracy:\", accuracy_score(y_test, y_pred_xgb))\n",
        "print(\"Confusion Matrix:\\n\", confusion_matrix(y_test, y_pred_xgb))\n",
        "print(\"Classification Report:\\n\", classification_report(y_test, y_pred_xgb))\n"
      ],
      "metadata": {
        "id": "KIEHL9hYbQlB"
      },
      "execution_count": null,
      "outputs": []
    },
    {
      "cell_type": "code",
      "source": [
        "model_mlp = MLPClassifier(hidden_layer_sizes=(100,), max_iter=500, random_state=42)\n",
        "cv_mlp = cross_val_score(model_mlp, X_res, y_res, cv=cv, scoring='accuracy').mean()\n",
        "\n",
        "model_mlp.fit(X_train_res, y_train_res)\n",
        "y_pred_mlp = model_mlp.predict(X_test_scaled)\n",
        "\n",
        "print(\"\\n🔸 MLP (Neural Network)\")\n",
        "print(\"CV Accuracy:\", cv_mlp)\n",
        "print(\"Test Accuracy:\", accuracy_score(y_test, y_pred_mlp))\n",
        "print(\"Confusion Matrix:\\n\", confusion_matrix(y_test, y_pred_mlp))\n",
        "print(\"Classification Report:\\n\", classification_report(y_test, y_pred_mlp))\n"
      ],
      "metadata": {
        "id": "a0JGsgehbRZw"
      },
      "execution_count": null,
      "outputs": []
    },
    {
      "cell_type": "code",
      "source": [
        "model_lgb = LGBMClassifier()\n",
        "cv_lgb = cross_val_score(model_lgb, X_res, y_res, cv=cv, scoring='accuracy').mean()\n",
        "\n",
        "model_lgb.fit(X_train_res, y_train_res)\n",
        "y_pred_lgb = model_lgb.predict(X_test_scaled)\n",
        "\n",
        "print(\"\\n🔸 LightGBM\")\n",
        "print(\"CV Accuracy:\", cv_lgb)\n",
        "print(\"Test Accuracy:\", accuracy_score(y_test, y_pred_lgb))\n",
        "print(\"Confusion Matrix:\\n\", confusion_matrix(y_test, y_pred_lgb))\n",
        "print(\"Classification Report:\\n\", classification_report(y_test, y_pred_lgb))\n"
      ],
      "metadata": {
        "id": "AoIhtEupbTRI"
      },
      "execution_count": null,
      "outputs": []
    },
    {
      "cell_type": "code",
      "source": [
        "model_cat = CatBoostClassifier(verbose=0)\n",
        "cv_cat = cross_val_score(model_cat, X_res, y_res, cv=cv, scoring='accuracy').mean()\n",
        "\n",
        "model_cat.fit(X_train_res, y_train_res)\n",
        "y_pred_cat = model_cat.predict(X_test_scaled)\n",
        "\n",
        "print(\"\\n🔸 CatBoost\")\n",
        "print(\"CV Accuracy:\", cv_cat)\n",
        "print(\"Test Accuracy:\", accuracy_score(y_test, y_pred_cat))\n",
        "print(\"Confusion Matrix:\\n\", confusion_matrix(y_test, y_pred_cat))\n",
        "print(\"Classification Report:\\n\", classification_report(y_test, y_pred_cat))\n"
      ],
      "metadata": {
        "id": "WTnIyKRpbWRY"
      },
      "execution_count": null,
      "outputs": []
    },
    {
      "cell_type": "code",
      "source": [
        "accuracy_summary = {\n",
        "    \"Logistic Regression\": cv_lr,\n",
        "    \"Decision Tree\": cv_dt,\n",
        "    \"Random Forest\": cv_rf,\n",
        "    \"Gradient Boosting\": cv_gb,\n",
        "    \"SVM\": cv_svm,\n",
        "    \"Naive Bayes\": cv_nb,\n",
        "    \"KNN\": cv_knn,\n",
        "    \"XGBoost\": cv_xgb,\n",
        "    \"MLP\": cv_mlp,\n",
        "    \"LightGBM\": cv_lgb,\n",
        "    \"CatBoost\": cv_cat\n",
        "}\n",
        "\n",
        "plt.figure(figsize=(12,6))\n",
        "sns.barplot(x=list(accuracy_summary.keys()), y=list(accuracy_summary.values()))\n",
        "plt.xticks(rotation=45)\n",
        "plt.ylabel(\"Cross-Validation Accuracy\")\n",
        "plt.title(\"5-Fold CV Accuracy Comparison (After SMOTE)\")\n",
        "plt.tight_layout()\n",
        "plt.show()\n"
      ],
      "metadata": {
        "id": "H1DKniDIbX-I"
      },
      "execution_count": null,
      "outputs": []
    }
  ]
}